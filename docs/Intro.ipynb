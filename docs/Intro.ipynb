{
 "cells": [
  {
   "cell_type": "code",
   "execution_count": 1,
   "metadata": {},
   "outputs": [],
   "source": [
    "import os\n",
    "# import qma\n",
    "from entropylab import *\n",
    "import numpy as np\n",
    "import matplotlib.pyplot as plt"
   ]
  },
  {
   "cell_type": "code",
   "execution_count": 2,
   "metadata": {},
   "outputs": [],
   "source": [
    "%config Completer.use_jedi = False\n",
    "\n"
   ]
  },
  {
   "cell_type": "markdown",
   "metadata": {},
   "source": [
    "<div align=\"center\"> <font size=\"+5\"><u>Entropy: A lab workflow manager</u></font></div>\n"
   ]
  },
  {
   "cell_type": "markdown",
   "metadata": {},
   "source": [
    "Entropy is a tool for managing your quantum workflow. It allows you to build complex experiments, coordinating lab instruments and arbitrary computational steps.\n",
    "\n",
    "It is built to solve three major problems: data collection, device management and calibration automation. This notebook introduces the basic concepts needed to start working with this tool. \n",
    "\n",
    "\n",
    "# The Experiment and Graph\n",
    "\n",
    "An experiment is a set of steps which may or may not be directly dependent on each other. You may want to run steps (or *not* run them) \n",
    "based on the result of a previous step. You may want to run steps using a result from a previous step. And you will almost always need to have \n",
    "access to the results each previous step had generated. \n",
    "\n",
    "This model is well described by a _Directed Acyclic Graph_ (DAG). _Directed_ means there is a direction to the flow of the graph, \n",
    "from root to leaves. _Acyclic_ means there shouldn't be closed loops in which you can get \"stuck\" when flowing through the graph.\n",
    "DAG based authoring of experiments is perhaps the defining feature of Entropy. \n",
    "\n",
    "A simple DAG is shown below. Each experimental stage can be placed in a separate node and nodes pass data to descendant nodes. This is marked as \"res\"\n",
    "on vertices in the image. Note how you can also set the node run order without passing data between nodes. For example, noded `b` and `d` have a vertex \n",
    "connecting them but no data is passed. \n",
    "\n",
    "![](DAG.svg)\n",
    "\n",
    "\n",
    "The data passed into, and out of nodes is automatically saved to the result handeling backend (see below). But we can also take advantage of the \n",
    "strucutre to do some pretty nifty things. A graph run can have branching logic (conditional execution of branches), can be parameterized and there can \n",
    "be more than one way to traverse a graph from one end to another. This last point is particularly important when you have a graph with one **target** node, \n",
    "including the algorithm you really want to run and many **calibration** nodes with the all the experimental prerequisites. Solving the problem of complex \n",
    "calibration is actually the first task we had in mind for this project. \n",
    "\n",
    "## Building your first graph\n",
    "\n",
    "The `PyNode` is the basic element in an Entropy grpah. It runs arbitrary python code defined in the `program` parameter. \n",
    "In the example below, the `program` is defined by the function `node_operation` which doesn't do anything but returns a dictionary with the key:value pair ```{`res`:1}```. \n",
    "Programs used in PyNodes must always return a dictionary. The node also has a name, set by `label` and defined the names of the variables it (optionally) passes on to other nodes. \n",
    "\n",
    "```python\n",
    "def node_operation():\n",
    "    return {'res':1}\n",
    "\n",
    "node1 = PyNode(label=\"first_node\", program=node_operation,output_vars={'res'})\n",
    "\n",
    "```\n",
    "\n",
    "You can now attache the node to a graph (containing just one node) \n",
    "\n",
    "```python\n",
    "experiment = Graph(resources=None, graph={node1}, story=\"run_a\") \n",
    "```\n",
    "\n",
    "There are some explanations in order here. You can see that this graph has the `resources` parameter set to `None`, but we have not defined resources yet. \n",
    "We also didn't say anything about the `story` associated with a graph. But let's ignore that for now. \n",
    "\n",
    "We can now run the graph, saving the results to `handle`\n",
    "\n"
   ]
  },
  {
   "cell_type": "code",
   "execution_count": 3,
   "metadata": {},
   "outputs": [
    {
     "name": "stdout",
     "output_type": "stream",
     "text": [
      "2021-09-29 12:53:56,805 - entropy - WARNING - Results of current execution None will be permanently lost on session close\n",
      "2021-09-29 12:53:56,807 - entropy - INFO - Running node <PyNode> first_node\n",
      "2021-09-29 12:53:56,807 - entropy - INFO - Finished entropy experiment execution successfully\n"
     ]
    }
   ],
   "source": [
    "def node_operation():\n",
    "    return {'res':1}\n",
    "\n",
    "node1 = PyNode(label=\"first_node\", program=node_operation,output_vars={'res'})\n",
    "experiment = Graph(resources=None, graph={node1}, story=\"run_a\") \n",
    "handle = experiment.run()"
   ]
  },
  {
   "cell_type": "markdown",
   "metadata": {},
   "source": [
    "\"What's with the `WARNING`?\" you may ask. Because we didn't define any `resources`, and we don't have a backend for result saving defined, Entropy warns us we will not have any persistance (nothing will be saved for posterity). \n",
    "We will address this issue soon. Regardless, while in the python session, we can access the (wholly unspectacular) experiment results as follows:"
   ]
  },
  {
   "cell_type": "code",
   "execution_count": 4,
   "metadata": {},
   "outputs": [
    {
     "data": {
      "text/plain": [
       "1"
      ]
     },
     "execution_count": 4,
     "metadata": {},
     "output_type": "execute_result"
    }
   ],
   "source": [
    "handle.results.get_results_from_node(\"first_node\")[0].results[0].data"
   ]
  },
  {
   "cell_type": "markdown",
   "metadata": {},
   "source": [
    "You can see the returned result is what was returned by `node_operation`. There is clearly some strucutre here: results are returned in a list, \n",
    "that list is made of a certain type of object and so on. We will go into more detail later but will gloss over this for now. \n",
    "\n",
    "To view the graph, you need to have `graphviz` installed ([installation guide](https://graphviz.org/download/)). If it's properly installed on your environment, you can view the graph as follows:"
   ]
  },
  {
   "cell_type": "code",
   "execution_count": 5,
   "metadata": {},
   "outputs": [
    {
     "data": {
      "image/svg+xml": [
       "<?xml version=\"1.0\" encoding=\"UTF-8\" standalone=\"no\"?>\r\n",
       "<!DOCTYPE svg PUBLIC \"-//W3C//DTD SVG 1.1//EN\"\r\n",
       " \"http://www.w3.org/Graphics/SVG/1.1/DTD/svg11.dtd\">\r\n",
       "<!-- Generated by graphviz version 2.49.1 (20210923.0004)\r\n",
       " -->\r\n",
       "<!-- Pages: 1 -->\r\n",
       "<svg width=\"82pt\" height=\"44pt\"\r\n",
       " viewBox=\"0.00 0.00 82.00 44.00\" xmlns=\"http://www.w3.org/2000/svg\" xmlns:xlink=\"http://www.w3.org/1999/xlink\">\r\n",
       "<g id=\"graph0\" class=\"graph\" transform=\"scale(1 1) rotate(0) translate(4 40)\">\r\n",
       "<polygon fill=\"white\" stroke=\"transparent\" points=\"-4,4 -4,-40 78,-40 78,4 -4,4\"/>\r\n",
       "<!-- first_node -->\r\n",
       "<g id=\"node1\" class=\"node\">\r\n",
       "<title>first_node</title>\r\n",
       "<polygon fill=\"none\" stroke=\"black\" points=\"74,-36 0,-36 0,0 74,0 74,-36\"/>\r\n",
       "<text text-anchor=\"middle\" x=\"37\" y=\"-14.3\" font-family=\"Times New Roman,serif\" font-size=\"14.00\">first_node</text>\r\n",
       "</g>\r\n",
       "</g>\r\n",
       "</svg>\r\n"
      ],
      "text/plain": [
       "<graphviz.dot.Digraph at 0x22dc9305bb0>"
      ]
     },
     "execution_count": 5,
     "metadata": {},
     "output_type": "execute_result"
    }
   ],
   "source": [
    "handle.dot_graph()"
   ]
  },
  {
   "cell_type": "markdown",
   "metadata": {},
   "source": [
    "If not, you can use a textual representation of the graph. This is called `dot` notation and is a standard way to serialize a graph. To access the dot representation, run the following commnad"
   ]
  },
  {
   "cell_type": "code",
   "execution_count": 6,
   "metadata": {},
   "outputs": [
    {
     "name": "stdout",
     "output_type": "stream",
     "text": [
      "digraph {\n",
      "\tgraph [rankdir=LR]\n",
      "\tfirst_node [shape=box]\n",
      "}\n"
     ]
    }
   ],
   "source": [
    "print(str(handle.dot_graph()))"
   ]
  },
  {
   "cell_type": "markdown",
   "metadata": {},
   "source": [
    "This string can then be pasted in a service such as [GraphVizOnline](https://dreampuf.github.io/GraphvizOnline/) or [Edotor](https://edotor.net/) to get the graphical representation. \n",
    "\n"
   ]
  },
  {
   "cell_type": "markdown",
   "metadata": {},
   "source": [
    "## A graph with two nodes"
   ]
  },
  {
   "cell_type": "markdown",
   "metadata": {},
   "source": [
    "As a graph with a single node is hardly a graph, here's an example containing two nodes which pass a result between them. \n",
    "\n",
    "For simpliciy, both nodes are running the same operation (same `node_operation` as before)"
   ]
  },
  {
   "cell_type": "code",
   "execution_count": 7,
   "metadata": {},
   "outputs": [
    {
     "name": "stdout",
     "output_type": "stream",
     "text": [
      "2021-09-29 12:54:05,981 - entropy - WARNING - Results of current execution None will be permanently lost on session close\n",
      "2021-09-29 12:54:05,983 - entropy - INFO - Running node <PyNode> first_node\n",
      "2021-09-29 12:54:05,984 - entropy - INFO - Running node <PyNode> first_node\n",
      "2021-09-29 12:54:05,985 - entropy - INFO - Finished entropy experiment execution successfully\n"
     ]
    },
    {
     "data": {
      "image/svg+xml": [
       "<?xml version=\"1.0\" encoding=\"UTF-8\" standalone=\"no\"?>\r\n",
       "<!DOCTYPE svg PUBLIC \"-//W3C//DTD SVG 1.1//EN\"\r\n",
       " \"http://www.w3.org/Graphics/SVG/1.1/DTD/svg11.dtd\">\r\n",
       "<!-- Generated by graphviz version 2.49.1 (20210923.0004)\r\n",
       " -->\r\n",
       "<!-- Pages: 1 -->\r\n",
       "<svg width=\"223pt\" height=\"44pt\"\r\n",
       " viewBox=\"0.00 0.00 223.00 44.00\" xmlns=\"http://www.w3.org/2000/svg\" xmlns:xlink=\"http://www.w3.org/1999/xlink\">\r\n",
       "<g id=\"graph0\" class=\"graph\" transform=\"scale(1 1) rotate(0) translate(4 40)\">\r\n",
       "<polygon fill=\"white\" stroke=\"transparent\" points=\"-4,4 -4,-40 219,-40 219,4 -4,4\"/>\r\n",
       "<!-- first_node -->\r\n",
       "<g id=\"node1\" class=\"node\">\r\n",
       "<title>first_node</title>\r\n",
       "<polygon fill=\"none\" stroke=\"black\" points=\"74,-36 0,-36 0,0 74,0 74,-36\"/>\r\n",
       "<text text-anchor=\"middle\" x=\"37\" y=\"-14.3\" font-family=\"Times New Roman,serif\" font-size=\"14.00\">first_node</text>\r\n",
       "</g>\r\n",
       "<!-- first_node_2 -->\r\n",
       "<g id=\"node2\" class=\"node\">\r\n",
       "<title>first_node_2</title>\r\n",
       "<polygon fill=\"none\" stroke=\"black\" points=\"215,-36 127,-36 127,0 215,0 215,-36\"/>\r\n",
       "<text text-anchor=\"middle\" x=\"171\" y=\"-14.3\" font-family=\"Times New Roman,serif\" font-size=\"14.00\">first_node_2</text>\r\n",
       "</g>\r\n",
       "<!-- first_node&#45;&gt;first_node_2 -->\r\n",
       "<g id=\"edge1\" class=\"edge\">\r\n",
       "<title>first_node&#45;&gt;first_node_2</title>\r\n",
       "<path fill=\"none\" stroke=\"black\" d=\"M74.07,-18C87.21,-18 102.37,-18 116.69,-18\"/>\r\n",
       "<polygon fill=\"black\" stroke=\"black\" points=\"116.94,-21.5 126.94,-18 116.94,-14.5 116.94,-21.5\"/>\r\n",
       "<text text-anchor=\"middle\" x=\"100.5\" y=\"-21.8\" font-family=\"Times New Roman,serif\" font-size=\"14.00\">res</text>\r\n",
       "</g>\r\n",
       "</g>\r\n",
       "</svg>\r\n"
      ],
      "text/plain": [
       "<graphviz.dot.Digraph at 0x22dc92ab400>"
      ]
     },
     "execution_count": 7,
     "metadata": {},
     "output_type": "execute_result"
    }
   ],
   "source": [
    "node1 = PyNode(label=\"first_node\", program=node_operation,output_vars={'res'})\n",
    "node2 = PyNode(label=\"first_node\", program=node_operation,output_vars={'res'},input_vars={'ina':node1.outputs['res']})\n",
    "experiment = Graph(resources=None, graph={node1,node2}, story=\"run_a\") \n",
    "handle = experiment.run()\n",
    "graph=handle.dot_graph()\n",
    "graph.graph_attr['rankdir'] = 'LR'\n",
    "graph"
   ]
  },
  {
   "cell_type": "markdown",
   "metadata": {},
   "source": [
    "By inspecting the results object, we can see we have two `ResultRecord`s coming from each of the nodes, and an additional one which is automatically added. The additional record is the result of the final node and it is always included. "
   ]
  },
  {
   "cell_type": "code",
   "execution_count": 8,
   "metadata": {},
   "outputs": [
    {
     "data": {
      "text/plain": [
       "[ResultRecord(experiment_id=1632909245982750200, id=0, label='res', story=None, stage=0, data=1, time=datetime.datetime(2021, 9, 29, 12, 54, 5, 984892)),\n",
       " ResultRecord(experiment_id=1632909245982750200, id=1, label='res', story=None, stage=1, data=1, time=datetime.datetime(2021, 9, 29, 12, 54, 5, 985904)),\n",
       " ResultRecord(experiment_id=1632909245982750200, id=2, label='experiment_result', story='Final output of the experiment', stage=-1, data={'res': 1}, time=datetime.datetime(2021, 9, 29, 12, 54, 5, 985904))]"
      ]
     },
     "execution_count": 8,
     "metadata": {},
     "output_type": "execute_result"
    }
   ],
   "source": [
    "handle.results.get_results()"
   ]
  },
  {
   "cell_type": "markdown",
   "metadata": {},
   "source": [
    "# Results in Entropy: Setting up a DB\n",
    "\n",
    "Collecting and arranging experimental data is a difficult task. It's often managed in files and folders with some structure\n",
    "users agree upon, but in many cases that is not enforced. To solve this problem we provide a way to automate data saving\n",
    "as an integral part of structuring the experimental sequence. Each node can save the data you specify, but also saves additional \n",
    "data on its own. \n",
    "\n",
    "The data saving backend is flexible, we will provide several backends starting with a SQLite DB but later extending to other targets.\n",
    "The first backend we intend to target after SQLite is HDF5. \n",
    "\n",
    "Below we set up a DB saved to a file. In the cell below we first make sure that file doesn't exist and then start an instance of a DB backend. \n",
    "`SqlAlchemyDB` is the specific implementaion we currently provide and it generates a SQLite file. SQLite is an easy choice: it doesn't require any \n",
    "difficult setup, essentially it's just a file that lives on your file system. If you want, you can use common DB tools (e.g. [DBeaver](https://dbeaver.io/)) to view the \n",
    "structure of this file. \n"
   ]
  },
  {
   "cell_type": "code",
   "execution_count": null,
   "metadata": {},
   "outputs": [],
   "source": [
    "db_file='docs_cache/tutorial.db'\n",
    "if os.path.exists(db_file):\n",
    "  os.remove(db_file)\n",
    "db = SqlAlchemyDB(db_file)\n",
    "\n",
    "experiment_resources = ExperimentResources(db)\n"
   ]
  },
  {
   "cell_type": "code",
   "execution_count": null,
   "metadata": {},
   "outputs": [
    {
     "name": "stdout",
     "output_type": "stream",
     "text": [
      "2021-05-09 18:58:13,827 - entropy - INFO - Running node <PyNode> node_with_DB\n",
      "2021-05-09 18:58:13,884 - entropy - INFO - Finished entropy experiment execution successfully\n"
     ]
    }
   ],
   "source": [
    "node1 = PyNode(\"node_with_DB\", node_operation,output_vars={'res'})\n",
    "experiment_with_db = Graph(resources=experiment_resources, graph={node1},story=\"run with DB\")\n",
    "handle2 = experiment_with_db.run()\n"
   ]
  },
  {
   "cell_type": "markdown",
   "metadata": {},
   "source": [
    "If you now try to observe the saved results, what do you expect to see? \n"
   ]
  },
  {
   "cell_type": "code",
   "execution_count": null,
   "metadata": {},
   "outputs": [
    {
     "data": {
      "text/plain": [
       "[ResultRecord(experiment_id=1, id=1, label='res', story=None, stage=0, data=1),\n",
       " ResultRecord(experiment_id=1, id=2, label='experiment_result', story='Final output of the experiment', stage=-1, data={'res': 1})]"
      ]
     },
     "execution_count": 13,
     "metadata": {},
     "output_type": "execute_result"
    }
   ],
   "source": [
    "handle2.results.get_results()"
   ]
  },
  {
   "cell_type": "markdown",
   "metadata": {},
   "source": [
    "Only the results of the last run are here. Even if you run this experiments a few more times, you will only see the last run. \n",
    "\n",
    "This is a bit disappointing as we promised persistance. So, what gives? \n",
    "\n",
    "Well, the `handle` is just for a specific experimental run so it makes sense you only see the results of _that run_. To see everything in the database you can query it directly"
   ]
  },
  {
   "cell_type": "code",
   "execution_count": null,
   "metadata": {},
   "outputs": [
    {
     "data": {
      "text/plain": [
       "[ResultRecord(experiment_id=1, id=1, label='res', story=None, stage=0, data=1),\n",
       " ResultRecord(experiment_id=1, id=2, label='experiment_result', story='Final output of the experiment', stage=-1, data={'res': 1})]"
      ]
     },
     "execution_count": 14,
     "metadata": {},
     "output_type": "execute_result"
    }
   ],
   "source": [
    "db.get_results()"
   ]
  },
  {
   "cell_type": "markdown",
   "metadata": {},
   "source": [
    "And if we run the experiment a few more times, see how the DB is populated"
   ]
  },
  {
   "cell_type": "code",
   "execution_count": null,
   "metadata": {},
   "outputs": [
    {
     "name": "stdout",
     "output_type": "stream",
     "text": [
      "2021-05-09 18:58:24,634 - entropy - INFO - Running node <PyNode> node_with_DB\n",
      "2021-05-09 18:58:24,709 - entropy - INFO - Finished entropy experiment execution successfully\n",
      "2021-05-09 18:58:24,725 - entropy - INFO - Running node <PyNode> node_with_DB\n",
      "2021-05-09 18:58:24,799 - entropy - INFO - Finished entropy experiment execution successfully\n",
      "2021-05-09 18:58:24,820 - entropy - INFO - Running node <PyNode> node_with_DB\n",
      "2021-05-09 18:58:24,872 - entropy - INFO - Finished entropy experiment execution successfully\n",
      "2021-05-09 18:58:24,886 - entropy - INFO - Running node <PyNode> node_with_DB\n",
      "2021-05-09 18:58:24,928 - entropy - INFO - Finished entropy experiment execution successfully\n",
      "2021-05-09 18:58:24,942 - entropy - INFO - Running node <PyNode> node_with_DB\n",
      "2021-05-09 18:58:24,988 - entropy - INFO - Finished entropy experiment execution successfully\n",
      "2021-05-09 18:58:25,000 - entropy - INFO - Running node <PyNode> node_with_DB\n",
      "2021-05-09 18:58:25,049 - entropy - INFO - Finished entropy experiment execution successfully\n",
      "2021-05-09 18:58:25,061 - entropy - INFO - Running node <PyNode> node_with_DB\n",
      "2021-05-09 18:58:25,108 - entropy - INFO - Finished entropy experiment execution successfully\n",
      "2021-05-09 18:58:25,120 - entropy - INFO - Running node <PyNode> node_with_DB\n",
      "2021-05-09 18:58:25,163 - entropy - INFO - Finished entropy experiment execution successfully\n",
      "2021-05-09 18:58:25,174 - entropy - INFO - Running node <PyNode> node_with_DB\n",
      "2021-05-09 18:58:25,221 - entropy - INFO - Finished entropy experiment execution successfully\n",
      "2021-05-09 18:58:25,234 - entropy - INFO - Running node <PyNode> node_with_DB\n",
      "2021-05-09 18:58:25,280 - entropy - INFO - Finished entropy experiment execution successfully\n"
     ]
    },
    {
     "data": {
      "text/plain": [
       "[ResultRecord(experiment_id=1, id=1, label='res', story=None, stage=0, data=1),\n",
       " ResultRecord(experiment_id=1, id=2, label='experiment_result', story='Final output of the experiment', stage=-1, data={'res': 1}),\n",
       " ResultRecord(experiment_id=2, id=3, label='res', story=None, stage=0, data=1),\n",
       " ResultRecord(experiment_id=2, id=4, label='experiment_result', story='Final output of the experiment', stage=-1, data={'res': 1}),\n",
       " ResultRecord(experiment_id=3, id=5, label='res', story=None, stage=0, data=1),\n",
       " ResultRecord(experiment_id=3, id=6, label='experiment_result', story='Final output of the experiment', stage=-1, data={'res': 1}),\n",
       " ResultRecord(experiment_id=4, id=7, label='res', story=None, stage=0, data=1),\n",
       " ResultRecord(experiment_id=4, id=8, label='experiment_result', story='Final output of the experiment', stage=-1, data={'res': 1}),\n",
       " ResultRecord(experiment_id=5, id=9, label='res', story=None, stage=0, data=1),\n",
       " ResultRecord(experiment_id=5, id=10, label='experiment_result', story='Final output of the experiment', stage=-1, data={'res': 1}),\n",
       " ResultRecord(experiment_id=6, id=11, label='res', story=None, stage=0, data=1),\n",
       " ResultRecord(experiment_id=6, id=12, label='experiment_result', story='Final output of the experiment', stage=-1, data={'res': 1}),\n",
       " ResultRecord(experiment_id=7, id=13, label='res', story=None, stage=0, data=1),\n",
       " ResultRecord(experiment_id=7, id=14, label='experiment_result', story='Final output of the experiment', stage=-1, data={'res': 1}),\n",
       " ResultRecord(experiment_id=8, id=15, label='res', story=None, stage=0, data=1),\n",
       " ResultRecord(experiment_id=8, id=16, label='experiment_result', story='Final output of the experiment', stage=-1, data={'res': 1}),\n",
       " ResultRecord(experiment_id=9, id=17, label='res', story=None, stage=0, data=1),\n",
       " ResultRecord(experiment_id=9, id=18, label='experiment_result', story='Final output of the experiment', stage=-1, data={'res': 1}),\n",
       " ResultRecord(experiment_id=10, id=19, label='res', story=None, stage=0, data=1),\n",
       " ResultRecord(experiment_id=10, id=20, label='experiment_result', story='Final output of the experiment', stage=-1, data={'res': 1}),\n",
       " ResultRecord(experiment_id=11, id=21, label='res', story=None, stage=0, data=1),\n",
       " ResultRecord(experiment_id=11, id=22, label='experiment_result', story='Final output of the experiment', stage=-1, data={'res': 1})]"
      ]
     },
     "execution_count": 15,
     "metadata": {},
     "output_type": "execute_result"
    }
   ],
   "source": [
    "[experiment_with_db.run() for ind in range(10)]\n",
    "db.get_results()"
   ]
  },
  {
   "cell_type": "markdown",
   "metadata": {},
   "source": [
    "# The Entropy Environment\n",
    "\n",
    "By \"device management\" what is meant is more than just the set of all instruments you use in the lab. A _device_ in this\n",
    "context can be many things. For example, it could be some calculation that is run on a remote compute resource, it may\n",
    "be the object representing a web-based GUI you are working with or, indeed, it can be your DC voltage source. Sharing these\n",
    "resources between nodes in Entropy is easy. The nodes in an Entropy graph have access to resources automatically, and \n",
    "there is a centralized store in which you can register the resources that are always present in the lab or temporary resources\n",
    "which only exist for a specific run of an experiment. \n",
    "\n",
    "## Lab and Experiment Resoruces\n",
    "\n",
    "The mental image you need to keep to understand resources management in Entropy is as follows: Resources belong to a lab and persist in the DB. Every time we set up an experiment, we can use a \n",
    "lab resource by importing it. \n",
    "\n",
    "As an example, we first build a class representing some device, say an oscilloscope. \n",
    "\n",
    "```python\n",
    "class my_scope:\n",
    "    def __init__(self,name, ip):\n",
    "        self.name=name\n",
    "        self.ip=ip      \n",
    "```\n",
    "\n",
    "Typically you would start from an existing driver you already have, or a contributed one.\n",
    "You can use exising drivers from the QCodes library using our wrapper class, more details on this in seperate tutorial.\n",
    "\n",
    "We start our example by deleting our DB file from before and setting up a new lab. \n",
    "\n",
    "Warning: This is destructive to any work we've done so far so if you want to keep the existing DB please copy the file over. \n",
    "\n",
    "Note that setting up a lab is only done once under normal circumstances. "
   ]
  },
  {
   "cell_type": "code",
   "execution_count": null,
   "metadata": {},
   "outputs": [],
   "source": [
    "db_file='docs_cache/tutorial.db'\n",
    "if os.path.exists(db_file):\n",
    "  os.remove(db_file)\n",
    "db = SqlAlchemyDB(db_file)\n",
    "lab = LabResources(db)\n",
    "\n"
   ]
  },
  {
   "cell_type": "markdown",
   "metadata": {},
   "source": [
    "### Registering resources\n",
    "\n",
    "We can now **register** our resources (our oscilloscope) to the lab. The act of registration adds a resource to the ones available to us in the lab. \n",
    "\n",
    "There are many options here we will go into in later tutorials but for now, we can point out just a few. The `register_resource` method takes a `resource_class` argument, note that this is the **name** of the class and not an instance. There are then `args` and `kwargs` we pass, which are the _positional_ arguments passed to the constructor of our resource and the _keyword_ (named) arguments we pass. We don't have do use both, we can use just one or the other or (as in the example below) a combination of both. "
   ]
  },
  {
   "cell_type": "code",
   "execution_count": null,
   "metadata": {},
   "outputs": [
    {
     "name": "stdout",
     "output_type": "stream",
     "text": [
      "2021-05-09 22:13:20,016 - entropy - WARNING - instrument my_scope is not an entropylab Resource and additional metadata won't be saved\n",
      "2021-05-09 22:13:20,017 - entropy - WARNING - could not save source of my_scope\n"
     ]
    }
   ],
   "source": [
    "class my_scope:\n",
    "    def __init__(self,name, ip):\n",
    "        self.name=name\n",
    "        self.ip=ip      \n",
    "    def identify(self):\n",
    "        print(f'This is scope:{self.name}')\n",
    "\n",
    "lab.register_resource(name=\"my_scope\", resource_class=my_scope,args=[\"gals scope\"],kwargs={'ip':0})\n",
    "\n"
   ]
  },
  {
   "cell_type": "markdown",
   "metadata": {},
   "source": [
    "If you now try to run the cell from above again, this will fail. Why is that? Because you are trying to register an existing device to the DB. \n",
    "The `LabResources` API supports adding and removing resources from the lab and this failing behaviour is intentional. It is meant to help preventing an accidental overwrite of a device.\n",
    "\n",
    "### Running an experiment with a resource \n",
    "\n",
    "Let's now run an experiment the uses a registered resource. We need to start an `experiment_resource` instance (and specify the db to which it writes), and then import the resource we want to use from the lab. \n"
   ]
  },
  {
   "cell_type": "code",
   "execution_count": null,
   "metadata": {},
   "outputs": [
    {
     "name": "stdout",
     "output_type": "stream",
     "text": [
      "2021-05-09 22:49:55,134 - entropy - INFO - Running node <PyNode> first_node\n",
      "This is scope:gals scope\n",
      "2021-05-09 22:49:55,205 - entropy - INFO - Finished entropy experiment execution successfully\n"
     ]
    }
   ],
   "source": [
    "experiment_resources = ExperimentResources(db)\n",
    "experiment_resources.import_lab_resource('my_scope')\n",
    "\n",
    "def node_action_with_scope(context: EntropyContext):\n",
    "   \n",
    "    scp=context.get_resource(\"my_scope\")\n",
    "    scp.identify()\n",
    "    return {\"a_out\": 10}\n",
    "\n",
    "node1 = PyNode(\"first_node\", node_action_with_scope,output_vars={'a_out'})\n",
    "experiment_with_instrument = Graph(experiment_resources, {node1}, \"run_a\") #No resources used here\n",
    "handle_with_instrument = experiment_with_instrument.run()\n"
   ]
  },
  {
   "cell_type": "markdown",
   "metadata": {},
   "source": [
    "As you can see the `identify` method was called as expected. "
   ]
  },
  {
   "cell_type": "markdown",
   "metadata": {},
   "source": [
    "# Entropy with QUA\n",
    "\n",
    "Entropy is developed to be a general purpose lab manager. It is however developed primarily by [Quantum Machines](www.quantum-machines.co), creators of the Quantum Orchastration Platform and the QUA programming language. \n",
    "\n",
    "Support of QUA is going to be extended in coming versions, primarily via Entropy extensions. However, you can already run QUA code by using the general purpose PyNode.\n",
    "This is shown in the following basic exmaple"
   ]
  },
  {
   "cell_type": "code",
   "execution_count": null,
   "metadata": {},
   "outputs": [],
   "source": [
    "#first we delete the DB file again\n",
    "db_file='docs_cache/tutorial.db'\n",
    "if os.path.exists(db_file):\n",
    "  os.remove(db_file)\n",
    "db = SqlAlchemyDB(db_file)\n",
    "lab = LabResources(db)\n",
    "\n",
    "#we now import the QUA package\n",
    "from qm.QuantumMachinesManager import QuantumMachinesManager\n",
    "from qm.qua import *\n",
    "from qm import SimulationConfig\n",
    "\n",
    "#now register the quntum machines mnager and import it to the experiment resources\n",
    "lab.register_resource('qmm',QuantumMachinesManager)\n",
    "experiment_resources = ExperimentResources(db)\n",
    "experiment_resources.import_lab_resource('qmm')"
   ]
  },
  {
   "cell_type": "markdown",
   "metadata": {},
   "source": [
    "After some intro house keeping, we set up a two-node graph. A first node to generate the config and pass it on, and a second node to run the QUA code. \n",
    "We write the operation of these two PyNodes in the two following functions:"
   ]
  },
  {
   "cell_type": "code",
   "execution_count": null,
   "metadata": {},
   "outputs": [],
   "source": [
    "def get_config():\n",
    "    config = {\n",
    "        \"version\": 1,\n",
    "        \"controllers\": {\n",
    "            \"con1\": {\n",
    "                \"type\": \"opx1\",\n",
    "                \"analog_outputs\": {\n",
    "                    1: {\"offset\": +0.0},\n",
    "                },\n",
    "            }\n",
    "        },\n",
    "        \"elements\": {\n",
    "            \"qe1\": {\n",
    "                \"singleInput\": {\"port\": (\"con1\", 1)},\n",
    "                \"intermediate_frequency\": 5e6,\n",
    "                \"operations\": {\n",
    "                    \"playOp\": \"constPulse\",\n",
    "                },\n",
    "            },\n",
    "        },\n",
    "        \"pulses\": {\n",
    "            \"constPulse\": {\n",
    "                \"operation\": \"control\",\n",
    "                \"length\": 1000,  # in ns\n",
    "                \"waveforms\": {\"single\": \"const_wf\"},\n",
    "            },\n",
    "        },\n",
    "        \"waveforms\": {\n",
    "            \"const_wf\": {\"type\": \"constant\", \"sample\": 0.2},\n",
    "        },\n",
    "    }\n",
    "\n",
    "    return {'config': config}\n",
    "\n",
    "\n",
    "def QUA_node_action(context: EntropyContext,config):\n",
    "    qmm = context.get_resource('qmm')\n",
    "    QM1 = qmm.open_qm(config)\n",
    "    with program() as prog:\n",
    "        play(\"playOp\", \"qe1\")\n",
    "    job = QM1.simulate(prog, SimulationConfig(int(1000)))  \n",
    "    samples = job.get_simulated_samples()\n",
    "    samples1 = samples.con1.analog['1']\n",
    "    return {\"samples\": samples1}"
   ]
  },
  {
   "cell_type": "markdown",
   "metadata": {},
   "source": [
    "Finally, we can set up the nodes and graph and run our experiment:"
   ]
  },
  {
   "cell_type": "code",
   "execution_count": null,
   "metadata": {},
   "outputs": [
    {
     "name": "stdout",
     "output_type": "stream",
     "text": [
      "2021-05-09 23:47:03,095 - qm - INFO - Performing health check\n",
      "2021-05-09 23:47:03,103 - qm - INFO - Health check passed\n",
      "2021-05-09 23:47:03,122 - entropy - INFO - Running node <PyNode> config_node\n",
      "2021-05-09 23:47:03,167 - entropy - INFO - Running node <PyNode> QUA_node\n",
      "2021-05-09 23:47:03,218 - qm - INFO - to simulate a program, use QuantumMachinesManager.simulate(..)\n",
      "2021-05-09 23:47:03,246 - qm - INFO - Flags: \n",
      "2021-05-09 23:47:03,248 - qm - INFO - Simulating Qua program\n",
      "2021-05-09 23:47:03,502 - entropy - INFO - Finished entropy experiment execution successfully\n"
     ]
    }
   ],
   "source": [
    "config_node = PyNode(\"config_node\", get_config,output_vars={'config'})\n",
    "qua_node = PyNode(\"QUA_node\", QUA_node_action,input_vars={'config':config_node.outputs['config']},output_vars={'samples'})\n",
    "experiment_with_QUA = Graph(experiment_resources, {config_node,qua_node}, \"a QUA run\")\n",
    "handle_with_QUA = experiment_with_QUA.run()"
   ]
  },
  {
   "cell_type": "markdown",
   "metadata": {},
   "source": [
    "We can plot the result we obtained from running our experiment. Graph generation will be the first this the next Entropy version will automate. "
   ]
  },
  {
   "cell_type": "code",
   "execution_count": null,
   "metadata": {},
   "outputs": [
    {
     "data": {
      "image/png": "[encoded data removed]",
      "text/plain": [
       "<Figure size 432x288 with 1 Axes>"
      ]
     },
     "metadata": {
      "needs_background": "light"
     },
     "output_type": "display_data"
    }
   ],
   "source": [
    "plt.figure()\n",
    "plt.plot(handle_with_QUA.results.get_results()[1].data)\n",
    "plt.show()"
   ]
  }
 ],
 "metadata": {
  "interpreter": {
   "hash": "9baad5ffd96599aa46e37c5d9a3f057d162236f2ab0db03d284787da31238321"
  },
  "kernelspec": {
   "display_name": "Python 3 (ipykernel)",
   "language": "python",
   "name": "python3"
  },
  "language_info": {
   "codemirror_mode": {
    "name": "ipython",
    "version": 3
   },
   "file_extension": ".py",
   "mimetype": "text/x-python",
   "name": "python",
   "nbconvert_exporter": "python",
   "pygments_lexer": "ipython3",
   "version": "3.9.7"
  }
 },
 "nbformat": 4,
 "nbformat_minor": 4
}
