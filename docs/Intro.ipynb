{
 "cells": [
  {
   "cell_type": "code",
   "execution_count": 2,
   "metadata": {},
   "outputs": [],
   "source": [
    "import os\n",
    "import qm\n",
    "from entropylab import *\n",
    "import numpy as np\n",
    "import matplotlib.pyplot as plt"
   ]
  },
  {
   "cell_type": "code",
   "execution_count": 3,
   "metadata": {},
   "outputs": [],
   "source": [
    "%config Completer.use_jedi = False\n",
    "\n"
   ]
  },
  {
   "cell_type": "markdown",
   "metadata": {},
   "source": [
    "<div align=\"center\"> <font size=\"+5\"><u>Entropy: A lab workflow manager<\\u></font></div>\n"
   ]
  },
  {
   "cell_type": "markdown",
   "metadata": {},
   "source": [
    "Entropy is a tool for managing your quantum workflow. It allows you to build complex experiments, coordinating lab instruments and arbitrary computational steps.\n",
    "\n",
    "It is built to solve three major problems: data collection, device management and calibration automation. This notebook introduces the basic concepts needed to start working with this tool. \n",
    "\n",
    "\n",
    "# The Experiment and Graph\n",
    "\n",
    "An experiment is a set of steps which may or may not be directly dependent on each other. You may want to run steps (or *not* run them) \n",
    "based on the result of a previous step. You may want to run steps using a result from a previous step. And you will almost always need to have \n",
    "access to the results each previous step had generated. \n",
    "\n",
    "This model is well described by a _Directed Acyclic Graph_ (DAG). _Directed_ means there is a direction to the flow of the graph, \n",
    "from root to leaves. _Acyclic_ means there shouldn't be closed loops in which you can get \"stuck\" when flowing through the graph.\n",
    "DAG based authoring of experiments is perhaps the defining feature of Entropy. \n",
    "\n",
    "A simple DAG is shown below. Each experimental stage can be placed in a separate node and nodes pass data to descendant nodes. This is marked as \"res\"\n",
    "on vertices in the image. Note how you can also set the node run order without passing data between nodes. For example, noded `b` and `d` have a vertex \n",
    "connecting them but no data is passed. \n",
    "\n",
    "![](DAG.svg)\n",
    "\n",
    "\n",
    "The data passed into, and out of nodes is automatically saved to the result handeling backend (see below). But we can also take advantage of the \n",
    "strucutre to do some pretty nifty things. A graph run can have branching logic (conditional execution of branches), can be parameterized and there can \n",
    "be more than one way to traverse a graph from one end to another. This last point is particularly important when you have a graph with one **target** node, \n",
    "including the algorithm you really want to run and many **calibration** nodes with the all the experimental prerequisites. Solving the problem of complex \n",
    "calibration is actually the first task we had in mind for this project. \n",
    "\n",
    "## Building your first graph\n",
    "\n",
    "The `PyNode` is the basic element in an Entropy grpah. It runs arbitrary python code defined in the `program` parameter. \n",
    "In the example below, the `program` is defined by the function `node_operation` which doesn't do anything but returns a dictionary with the key:value pair ```{`res`:1}```. \n",
    "Programs used in PyNodes must always return a dictionary. The node also has a name, set by `label` and defined the names of the variables it (optionally) passes on to other nodes. \n",
    "\n",
    "```python\n",
    "def node_operation():\n",
    "    return {'res':1}\n",
    "\n",
    "node1 = PyNode(label=\"first_node\", program=node_operation,output_vars={'res'})\n",
    "\n",
    "```\n",
    "\n",
    "You can now attache the node to a graph (containing just one node) \n",
    "\n",
    "```python\n",
    "experiment = Graph(resources=None, graph={node1}, story=\"run_a\") \n",
    "```\n",
    "\n",
    "There are some explanations in order here. You can see that this graph has the `resources` parameter set to `None`, but we have not defined resources yet. \n",
    "We also didn't say anything about the `story` associated with a graph. But let's ignore that for now. \n",
    "\n",
    "We can now run the graph, saving the results to `handle`\n",
    "\n"
   ]
  },
  {
   "cell_type": "code",
   "execution_count": 4,
   "metadata": {},
   "outputs": [
    {
     "name": "stdout",
     "output_type": "stream",
     "text": [
      "2021-05-09 18:57:20,103 - entropy - WARNING - Results of current execution None will be permanently lost on session close\n",
      "2021-05-09 18:57:20,107 - entropy - INFO - Running node <PyNode> first_node\n",
      "2021-05-09 18:57:20,109 - entropy - INFO - Finished entropy experiment execution successfully\n"
     ]
    }
   ],
   "source": [
    "def node_operation():\n",
    "    return {'res':1}\n",
    "\n",
    "node1 = PyNode(label=\"first_node\", program=node_operation,output_vars={'res'})\n",
    "experiment = Graph(resources=None, graph={node1}, story=\"run_a\") \n",
    "handle = experiment.run()"
   ]
  },
  {
   "cell_type": "markdown",
   "metadata": {},
   "source": [
    "\"What's with the `WARNING`?\" you may ask. Because we didn't define any `resources`, and we don't have a backend for result saving defined, Entropy warns us we will not have any persistance (nothing will be saved for posterity). \n",
    "We will address this issue soon. Regardless, while in the python session, we can access the (wholly unspectacular) experiment results as follows:"
   ]
  },
  {
   "cell_type": "code",
   "execution_count": 5,
   "metadata": {},
   "outputs": [
    {
     "data": {
      "text/plain": [
       "1"
      ]
     },
     "execution_count": 5,
     "metadata": {},
     "output_type": "execute_result"
    }
   ],
   "source": [
    "handle.results.get_results_from_node(\"first_node\")[0].results[0].data"
   ]
  },
  {
   "cell_type": "markdown",
   "metadata": {},
   "source": [
    "You can see the returned result is what was returned by `node_operation`. There is clearly some strucutre here: results are returned in a list, \n",
    "that list is made of a certain type of object and so on. We will go into more detail later but will gloss over this for now. \n",
    "\n",
    "To view the graph, you need to have `graphviz` installed ([installation guide](https://graphviz.org/download/)). If it's properly installed on your environment, you can view the graph as follows:"
   ]
  },
  {
   "cell_type": "code",
   "execution_count": 6,
   "metadata": {},
   "outputs": [
    {
     "data": {
      "image/svg+xml": [
       "<?xml version=\"1.0\" encoding=\"UTF-8\" standalone=\"no\"?>\r\n",
       "<!DOCTYPE svg PUBLIC \"-//W3C//DTD SVG 1.1//EN\"\r\n",
       " \"http://www.w3.org/Graphics/SVG/1.1/DTD/svg11.dtd\">\r\n",
       "<!-- Generated by graphviz version 2.47.1 (20210417.1919)\r\n",
       " -->\r\n",
       "<!-- Pages: 1 -->\r\n",
       "<svg width=\"82pt\" height=\"44pt\"\r\n",
       " viewBox=\"0.00 0.00 82.00 44.00\" xmlns=\"http://www.w3.org/2000/svg\" xmlns:xlink=\"http://www.w3.org/1999/xlink\">\r\n",
       "<g id=\"graph0\" class=\"graph\" transform=\"scale(1 1) rotate(0) translate(4 40)\">\r\n",
       "<polygon fill=\"white\" stroke=\"transparent\" points=\"-4,4 -4,-40 78,-40 78,4 -4,4\"/>\r\n",
       "<!-- first_node -->\r\n",
       "<g id=\"node1\" class=\"node\">\r\n",
       "<title>first_node</title>\r\n",
       "<polygon fill=\"none\" stroke=\"black\" points=\"74,-36 0,-36 0,0 74,0 74,-36\"/>\r\n",
       "<text text-anchor=\"middle\" x=\"37\" y=\"-14.3\" font-family=\"Times New Roman,serif\" font-size=\"14.00\">first_node</text>\r\n",
       "</g>\r\n",
       "</g>\r\n",
       "</svg>\r\n"
      ],
      "text/plain": [
       "<graphviz.dot.Digraph at 0x1c797388ac0>"
      ]
     },
     "execution_count": 6,
     "metadata": {},
     "output_type": "execute_result"
    }
   ],
   "source": [
    "handle.dot_graph()"
   ]
  },
  {
   "cell_type": "markdown",
   "metadata": {},
   "source": [
    "If not, you can use a textual representation of the graph. This is called `dot` notation and is a standard way to serialize a graph. To access the dot representation, run the following commnad"
   ]
  },
  {
   "cell_type": "code",
   "execution_count": 7,
   "metadata": {},
   "outputs": [
    {
     "name": "stdout",
     "output_type": "stream",
     "text": [
      "digraph {\n",
      "\tfirst_node [shape=box]\n",
      "}\n"
     ]
    }
   ],
   "source": [
    "print(str(handle.dot_graph()))"
   ]
  },
  {
   "cell_type": "markdown",
   "metadata": {},
   "source": [
    "This string can then be pasted in a service such as [GraphVizOnline](https://dreampuf.github.io/GraphvizOnline/) or [Edotor](https://edotor.net/) to get the graphical representation. \n",
    "\n"
   ]
  },
  {
   "cell_type": "markdown",
   "metadata": {},
   "source": [
    "## A graph with two nodes"
   ]
  },
  {
   "cell_type": "markdown",
   "metadata": {},
   "source": [
    "As a graph with a single node is hardly a graph, here's an example containing two nodes which pass a result between them. \n",
    "\n",
    "For simpliciy, both nodes are running the same operation (same `node_operation` as before)"
   ]
  },
  {
   "cell_type": "code",
   "execution_count": 8,
   "metadata": {},
   "outputs": [
    {
     "name": "stdout",
     "output_type": "stream",
     "text": [
      "2021-05-09 18:57:47,153 - entropy - WARNING - Results of current execution None will be permanently lost on session close\n",
      "2021-05-09 18:57:47,155 - entropy - INFO - Running node <PyNode> first_node\n",
      "2021-05-09 18:57:47,156 - entropy - INFO - Running node <PyNode> first_node\n",
      "2021-05-09 18:57:47,158 - entropy - INFO - Finished entropy experiment execution successfully\n"
     ]
    },
    {
     "data": {
      "image/svg+xml": [
       "<?xml version=\"1.0\" encoding=\"UTF-8\" standalone=\"no\"?>\r\n",
       "<!DOCTYPE svg PUBLIC \"-//W3C//DTD SVG 1.1//EN\"\r\n",
       " \"http://www.w3.org/Graphics/SVG/1.1/DTD/svg11.dtd\">\r\n",
       "<!-- Generated by graphviz version 2.47.1 (20210417.1919)\r\n",
       " -->\r\n",
       "<!-- Pages: 1 -->\r\n",
       "<svg width=\"223pt\" height=\"44pt\"\r\n",
       " viewBox=\"0.00 0.00 223.00 44.00\" xmlns=\"http://www.w3.org/2000/svg\" xmlns:xlink=\"http://www.w3.org/1999/xlink\">\r\n",
       "<g id=\"graph0\" class=\"graph\" transform=\"scale(1 1) rotate(0) translate(4 40)\">\r\n",
       "<polygon fill=\"white\" stroke=\"transparent\" points=\"-4,4 -4,-40 219,-40 219,4 -4,4\"/>\r\n",
       "<!-- first_node -->\r\n",
       "<g id=\"node1\" class=\"node\">\r\n",
       "<title>first_node</title>\r\n",
       "<polygon fill=\"none\" stroke=\"black\" points=\"74,-36 0,-36 0,0 74,0 74,-36\"/>\r\n",
       "<text text-anchor=\"middle\" x=\"37\" y=\"-14.3\" font-family=\"Times New Roman,serif\" font-size=\"14.00\">first_node</text>\r\n",
       "</g>\r\n",
       "<!-- first_node_2 -->\r\n",
       "<g id=\"node2\" class=\"node\">\r\n",
       "<title>first_node_2</title>\r\n",
       "<polygon fill=\"none\" stroke=\"black\" points=\"215,-36 127,-36 127,0 215,0 215,-36\"/>\r\n",
       "<text text-anchor=\"middle\" x=\"171\" y=\"-14.3\" font-family=\"Times New Roman,serif\" font-size=\"14.00\">first_node_2</text>\r\n",
       "</g>\r\n",
       "<!-- first_node&#45;&gt;first_node_2 -->\r\n",
       "<g id=\"edge1\" class=\"edge\">\r\n",
       "<title>first_node&#45;&gt;first_node_2</title>\r\n",
       "<path fill=\"none\" stroke=\"black\" d=\"M74.07,-18C87.21,-18 102.37,-18 116.69,-18\"/>\r\n",
       "<polygon fill=\"black\" stroke=\"black\" points=\"116.94,-21.5 126.94,-18 116.94,-14.5 116.94,-21.5\"/>\r\n",
       "<text text-anchor=\"middle\" x=\"100.5\" y=\"-21.8\" font-family=\"Times New Roman,serif\" font-size=\"14.00\">res</text>\r\n",
       "</g>\r\n",
       "</g>\r\n",
       "</svg>\r\n"
      ],
      "text/plain": [
       "<graphviz.dot.Digraph at 0x1c7f4e913a0>"
      ]
     },
     "execution_count": 8,
     "metadata": {},
     "output_type": "execute_result"
    }
   ],
   "source": [
    "node1 = PyNode(label=\"first_node\", program=node_operation,output_vars={'res'})\n",
    "node2 = PyNode(label=\"first_node\", program=node_operation,output_vars={'res'},input_vars={'ina':node1.outputs['res']})\n",
    "experiment = Graph(resources=None, graph={node1,node2}, story=\"run_a\") \n",
    "handle = experiment.run()\n",
    "graph=handle.dot_graph()\n",
    "graph.graph_attr['rankdir'] = 'LR'\n",
    "graph"
   ]
  },
  {
   "cell_type": "markdown",
   "metadata": {},
   "source": [
    "By inspecting the results object, we can see we have two `ResultRecord`s coming from each of the nodes, and an additional one which is automatically added. The additional record is the result of the final node and it is always included. "
   ]
  },
  {
   "cell_type": "code",
   "execution_count": 9,
   "metadata": {},
   "outputs": [
    {
     "data": {
      "text/plain": [
       "[ResultRecord(experiment_id=1620575867155736600, id=0, label='res', story=None, stage=0, data=1),\n",
       " ResultRecord(experiment_id=1620575867155736600, id=1, label='res', story=None, stage=1, data=1),\n",
       " ResultRecord(experiment_id=1620575867155736600, id=2, label='experiment_result', story='Final output of the experiment', stage=-1, data={'res': 1})]"
      ]
     },
     "execution_count": 9,
     "metadata": {},
     "output_type": "execute_result"
    }
   ],
   "source": [
    "handle.results.get_results()"
   ]
  },
  {
   "cell_type": "markdown",
   "metadata": {},
   "source": [
    "# Results in Entropy: Setting up a DB\n",
    "\n",
    "Collecting and arranging experimental data is a difficult task. It's often managed in files and folders with some structure\n",
    "users agree upon, but in many cases that is not enforced. To solve this problem we provide a way to automate data saving\n",
    "as an integral part of structuring the experimental sequence. Each node can save the data you specify, but also saves additional \n",
    "data on its own. \n",
    "\n",
    "The data saving backend is flexible, we will provide several backends starting with a SQLite DB but later extending to other targets.\n",
    "The first backend we intend to target after SQLite is HDF5. \n",
    "\n",
    "Below we set up a DB saved to a file. In the cell below we first make sure that file doesn't exist and then start an instance of a DB backend. \n",
    "`SqlAlchemyDB` is the specific implementaion we currently provide and it generates a SQLite file. SQLite is an easy choice: it doesn't require any \n",
    "difficult setup, essentially it's just a file that lives on your file system. If you want, you can use common DB tools (e.g. [DBeaver](https://dbeaver.io/)) to view the \n",
    "structure of this file. \n"
   ]
  },
  {
   "cell_type": "code",
   "execution_count": 11,
   "metadata": {},
   "outputs": [],
   "source": [
    "db_file='docs_cache/tutorial.db'\n",
    "if os.path.exists(db_file):\n",
    "  os.remove(db_file)\n",
    "db = SqlAlchemyDB(db_file)\n",
    "\n",
    "experiment_resources = ExperimentResources(db)\n"
   ]
  },
  {
   "cell_type": "code",
   "execution_count": 12,
   "metadata": {},
   "outputs": [
    {
     "name": "stdout",
     "output_type": "stream",
     "text": [
      "2021-05-09 18:58:13,827 - entropy - INFO - Running node <PyNode> node_with_DB\n",
      "2021-05-09 18:58:13,884 - entropy - INFO - Finished entropy experiment execution successfully\n"
     ]
    }
   ],
   "source": [
    "node1 = PyNode(\"node_with_DB\", node_operation,output_vars={'res'})\n",
    "experiment_with_db = Graph(resources=experiment_resources, graph={node1},story=\"run with DB\")\n",
    "handle2 = experiment_with_db.run()\n"
   ]
  },
  {
   "cell_type": "markdown",
   "metadata": {},
   "source": [
    "If you now try to observe the saved results, what do you expect to see? \n"
   ]
  },
  {
   "cell_type": "code",
   "execution_count": 13,
   "metadata": {},
   "outputs": [
    {
     "data": {
      "text/plain": [
       "[ResultRecord(experiment_id=1, id=1, label='res', story=None, stage=0, data=1),\n",
       " ResultRecord(experiment_id=1, id=2, label='experiment_result', story='Final output of the experiment', stage=-1, data={'res': 1})]"
      ]
     },
     "execution_count": 13,
     "metadata": {},
     "output_type": "execute_result"
    }
   ],
   "source": [
    "handle2.results.get_results()"
   ]
  },
  {
   "cell_type": "markdown",
   "metadata": {},
   "source": [
    "Only the results of the last run are here. Even if you run this experiments a few more times, you will only see the last run. \n",
    "\n",
    "This is a bit disappointing as we promised persistance. So, what gives? \n",
    "\n",
    "Well, the `handle` is just for a specific experimental run so it makes sense you only see the results of _that run_. To see everything in the database you can query it directly"
   ]
  },
  {
   "cell_type": "code",
   "execution_count": 14,
   "metadata": {},
   "outputs": [
    {
     "data": {
      "text/plain": [
       "[ResultRecord(experiment_id=1, id=1, label='res', story=None, stage=0, data=1),\n",
       " ResultRecord(experiment_id=1, id=2, label='experiment_result', story='Final output of the experiment', stage=-1, data={'res': 1})]"
      ]
     },
     "execution_count": 14,
     "metadata": {},
     "output_type": "execute_result"
    }
   ],
   "source": [
    "db.get_results()"
   ]
  },
  {
   "cell_type": "markdown",
   "metadata": {},
   "source": [
    "And if we run the experiment a few more times, see how the DB is populated"
   ]
  },
  {
   "cell_type": "code",
   "execution_count": 15,
   "metadata": {},
   "outputs": [
    {
     "name": "stdout",
     "output_type": "stream",
     "text": [
      "2021-05-09 18:58:24,634 - entropy - INFO - Running node <PyNode> node_with_DB\n",
      "2021-05-09 18:58:24,709 - entropy - INFO - Finished entropy experiment execution successfully\n",
      "2021-05-09 18:58:24,725 - entropy - INFO - Running node <PyNode> node_with_DB\n",
      "2021-05-09 18:58:24,799 - entropy - INFO - Finished entropy experiment execution successfully\n",
      "2021-05-09 18:58:24,820 - entropy - INFO - Running node <PyNode> node_with_DB\n",
      "2021-05-09 18:58:24,872 - entropy - INFO - Finished entropy experiment execution successfully\n",
      "2021-05-09 18:58:24,886 - entropy - INFO - Running node <PyNode> node_with_DB\n",
      "2021-05-09 18:58:24,928 - entropy - INFO - Finished entropy experiment execution successfully\n",
      "2021-05-09 18:58:24,942 - entropy - INFO - Running node <PyNode> node_with_DB\n",
      "2021-05-09 18:58:24,988 - entropy - INFO - Finished entropy experiment execution successfully\n",
      "2021-05-09 18:58:25,000 - entropy - INFO - Running node <PyNode> node_with_DB\n",
      "2021-05-09 18:58:25,049 - entropy - INFO - Finished entropy experiment execution successfully\n",
      "2021-05-09 18:58:25,061 - entropy - INFO - Running node <PyNode> node_with_DB\n",
      "2021-05-09 18:58:25,108 - entropy - INFO - Finished entropy experiment execution successfully\n",
      "2021-05-09 18:58:25,120 - entropy - INFO - Running node <PyNode> node_with_DB\n",
      "2021-05-09 18:58:25,163 - entropy - INFO - Finished entropy experiment execution successfully\n",
      "2021-05-09 18:58:25,174 - entropy - INFO - Running node <PyNode> node_with_DB\n",
      "2021-05-09 18:58:25,221 - entropy - INFO - Finished entropy experiment execution successfully\n",
      "2021-05-09 18:58:25,234 - entropy - INFO - Running node <PyNode> node_with_DB\n",
      "2021-05-09 18:58:25,280 - entropy - INFO - Finished entropy experiment execution successfully\n"
     ]
    },
    {
     "data": {
      "text/plain": [
       "[ResultRecord(experiment_id=1, id=1, label='res', story=None, stage=0, data=1),\n",
       " ResultRecord(experiment_id=1, id=2, label='experiment_result', story='Final output of the experiment', stage=-1, data={'res': 1}),\n",
       " ResultRecord(experiment_id=2, id=3, label='res', story=None, stage=0, data=1),\n",
       " ResultRecord(experiment_id=2, id=4, label='experiment_result', story='Final output of the experiment', stage=-1, data={'res': 1}),\n",
       " ResultRecord(experiment_id=3, id=5, label='res', story=None, stage=0, data=1),\n",
       " ResultRecord(experiment_id=3, id=6, label='experiment_result', story='Final output of the experiment', stage=-1, data={'res': 1}),\n",
       " ResultRecord(experiment_id=4, id=7, label='res', story=None, stage=0, data=1),\n",
       " ResultRecord(experiment_id=4, id=8, label='experiment_result', story='Final output of the experiment', stage=-1, data={'res': 1}),\n",
       " ResultRecord(experiment_id=5, id=9, label='res', story=None, stage=0, data=1),\n",
       " ResultRecord(experiment_id=5, id=10, label='experiment_result', story='Final output of the experiment', stage=-1, data={'res': 1}),\n",
       " ResultRecord(experiment_id=6, id=11, label='res', story=None, stage=0, data=1),\n",
       " ResultRecord(experiment_id=6, id=12, label='experiment_result', story='Final output of the experiment', stage=-1, data={'res': 1}),\n",
       " ResultRecord(experiment_id=7, id=13, label='res', story=None, stage=0, data=1),\n",
       " ResultRecord(experiment_id=7, id=14, label='experiment_result', story='Final output of the experiment', stage=-1, data={'res': 1}),\n",
       " ResultRecord(experiment_id=8, id=15, label='res', story=None, stage=0, data=1),\n",
       " ResultRecord(experiment_id=8, id=16, label='experiment_result', story='Final output of the experiment', stage=-1, data={'res': 1}),\n",
       " ResultRecord(experiment_id=9, id=17, label='res', story=None, stage=0, data=1),\n",
       " ResultRecord(experiment_id=9, id=18, label='experiment_result', story='Final output of the experiment', stage=-1, data={'res': 1}),\n",
       " ResultRecord(experiment_id=10, id=19, label='res', story=None, stage=0, data=1),\n",
       " ResultRecord(experiment_id=10, id=20, label='experiment_result', story='Final output of the experiment', stage=-1, data={'res': 1}),\n",
       " ResultRecord(experiment_id=11, id=21, label='res', story=None, stage=0, data=1),\n",
       " ResultRecord(experiment_id=11, id=22, label='experiment_result', story='Final output of the experiment', stage=-1, data={'res': 1})]"
      ]
     },
     "execution_count": 15,
     "metadata": {},
     "output_type": "execute_result"
    }
   ],
   "source": [
    "[experiment_with_db.run() for ind in range(10)]\n",
    "db.get_results()"
   ]
  },
  {
   "cell_type": "markdown",
   "metadata": {},
   "source": [
    "# The Entropy Environment\n",
    "\n",
    "By \"device management\" what is meant is more than just the set of all instruments you use in the lab. A _device_ in this\n",
    "context can be many things. For example, it could be some calculation that is run on a remote compute resource, it may\n",
    "be the object representing a web-based GUI you are working with or, indeed, it can be your DC voltage source. Sharing these\n",
    "resources between nodes in Entropy is easy. The nodes in an Entropy graph have access to resources automatically, and \n",
    "there is a centralized store in which you can register the resources that are always present in the lab or temporary resources\n",
    "which only exist for a specific run of an experiment. \n",
    "\n",
    "## Permanent and temporary resoruces\n",
    "\n",
    "Let's begin by making a class representing some device that permanently lives in the lab \n",
    "\n",
    "```python\n",
    "class my_scope:\n",
    "    def __init__(self,name, ip):\n",
    "        self.name=name\n",
    "        self.ip=ip      \n",
    "```\n",
    "\n",
    "Typically you would start from an existing driver you already have, or a contributed one.\n",
    "You can use exising drivers from the QCodes library, but using our wrapper class.\n",
    "\n",
    "Let's start our example of using resources by deleting our DB file from before and setting up a new lab. You will only do this once under normal circumstances. \n",
    "\n",
    "Note that the lab takes the DB object as it also persists in the DB. "
   ]
  },
  {
   "cell_type": "code",
   "execution_count": 16,
   "metadata": {},
   "outputs": [],
   "source": [
    "db_file='docs_cache/tutorial.db'\n",
    "if os.path.exists(db_file):\n",
    "  os.remove(db_file)\n",
    "db = SqlAlchemyDB(db_file)\n",
    "lab = LabResources(db)\n",
    "\n"
   ]
  },
  {
   "cell_type": "markdown",
   "metadata": {},
   "source": [
    "We can now **register** our resources (our oscilloscope) to the lab. "
   ]
  },
  {
   "cell_type": "code",
   "execution_count": 17,
   "metadata": {},
   "outputs": [
    {
     "name": "stdout",
     "output_type": "stream",
     "text": [
      "2021-05-09 18:58:38,291 - entropy - WARNING - instrument my_scope is not an entropylab Resource and additional metadata won't be saved\n",
      "2021-05-09 18:58:38,292 - entropy - WARNING - could not save source of my_scope\n"
     ]
    }
   ],
   "source": [
    "class my_scope:\n",
    "    def __init__(self,name, ip):\n",
    "        self.name=name\n",
    "        self.ip=ip      \n",
    "    def identify(self):\n",
    "        print(f'This is scope:{self.name}')\n",
    "\n",
    "lab.register_resource(name=\"my_scope\", resource_class=my_scope,args=[\"gals scope\"],experiment_kwargs={'ip':0})\n",
    "\n",
    "# experiment_resources = ExperimentResources(db)"
   ]
  },
  {
   "cell_type": "markdown",
   "metadata": {},
   "source": [
    "Let's run an experiment the uses this resource"
   ]
  },
  {
   "cell_type": "code",
   "execution_count": 43,
   "metadata": {},
   "outputs": [],
   "source": [
    "\n",
    "experiment_resources = ExperimentResources(db)\n",
    "experiment_resources.add_temp_resource(\"my_scope\",1)"
   ]
  },
  {
   "cell_type": "code",
   "execution_count": 41,
   "metadata": {},
   "outputs": [
    {
     "ename": "TypeError",
     "evalue": "add_temp_resource() missing 1 required positional argument: 'instance'",
     "output_type": "error",
     "traceback": [
      "\u001b[1;31m---------------------------------------------------------------------------\u001b[0m",
      "\u001b[1;31mTypeError\u001b[0m                                 Traceback (most recent call last)",
      "\u001b[1;32m<ipython-input-41-d0c44c445b61>\u001b[0m in \u001b[0;36m<module>\u001b[1;34m\u001b[0m\n\u001b[0;32m      7\u001b[0m \u001b[1;33m\u001b[0m\u001b[0m\n\u001b[0;32m      8\u001b[0m \u001b[0mexperiment_resources\u001b[0m \u001b[1;33m=\u001b[0m \u001b[0mExperimentResources\u001b[0m\u001b[1;33m(\u001b[0m\u001b[0mdb\u001b[0m\u001b[1;33m)\u001b[0m\u001b[1;33m\u001b[0m\u001b[1;33m\u001b[0m\u001b[0m\n\u001b[1;32m----> 9\u001b[1;33m \u001b[0mexperiment_resources\u001b[0m\u001b[1;33m.\u001b[0m\u001b[0madd_temp_resource\u001b[0m\u001b[1;33m(\u001b[0m\u001b[1;34m\"my_scope\"\u001b[0m\u001b[1;33m)\u001b[0m\u001b[1;33m\u001b[0m\u001b[1;33m\u001b[0m\u001b[0m\n\u001b[0m\u001b[0;32m     10\u001b[0m \u001b[1;33m\u001b[0m\u001b[0m\n\u001b[0;32m     11\u001b[0m \u001b[0mnode1\u001b[0m \u001b[1;33m=\u001b[0m \u001b[0mPyNode\u001b[0m\u001b[1;33m(\u001b[0m\u001b[1;34m\"first_node\"\u001b[0m\u001b[1;33m,\u001b[0m \u001b[0ma\u001b[0m\u001b[1;33m,\u001b[0m\u001b[0moutput_vars\u001b[0m\u001b[1;33m=\u001b[0m\u001b[1;33m{\u001b[0m\u001b[1;34m'a_out'\u001b[0m\u001b[1;33m}\u001b[0m\u001b[1;33m)\u001b[0m\u001b[1;33m\u001b[0m\u001b[1;33m\u001b[0m\u001b[0m\n",
      "\u001b[1;31mTypeError\u001b[0m: add_temp_resource() missing 1 required positional argument: 'instance'"
     ]
    }
   ],
   "source": [
    "def a(context: EntropyContext):\n",
    "   \n",
    "    scp=context.get_resource(\"my_scope\")\n",
    "    print(dir(scp))\n",
    "#     scp.identify()\n",
    "    return {\"a_out\": 10}\n",
    "\n",
    "experiment_resources = ExperimentResources(db)\n",
    "experiment_resources.add_temp_resource(\"my_scope\")\n",
    "\n",
    "node1 = PyNode(\"first_node\", a,output_vars={'a_out'})\n",
    "experiment_with_instrument = Graph(experiment_resources, {node1}, \"run_a\") #No resources used here\n",
    "handle_with_instrument = experiment_with_instrument.run()\n"
   ]
  },
  {
   "cell_type": "markdown",
   "metadata": {},
   "source": [
    "## Less simple"
   ]
  },
  {
   "cell_type": "markdown",
   "metadata": {},
   "source": [
    "This example is too simple to show any real benefit. let's add resources.\n",
    "We will now generate a `lab` which has a a database to which we save. \n",
    "This represents our entire lab, so in principle we only ever do this once and keep updating it as we go along. \n",
    "\n"
   ]
  },
  {
   "cell_type": "markdown",
   "metadata": {},
   "source": [
    "We now add two example resources. one represents a lab device - an oscilloscope and the other is a measurement from some thing\n",
    "\n",
    "note: if you run this cell twice you will get an error. You cannot add the same resource to your lab twice."
   ]
  },
  {
   "cell_type": "code",
   "execution_count": 119,
   "metadata": {},
   "outputs": [
    {
     "ename": "KeyError",
     "evalue": "'instrument my_thing already exist'",
     "output_type": "error",
     "traceback": [
      "\u001b[1;31m---------------------------------------------------------------------------\u001b[0m",
      "\u001b[1;31mKeyError\u001b[0m                                  Traceback (most recent call last)",
      "\u001b[1;32m<ipython-input-119-534e69eaf106>\u001b[0m in \u001b[0;36m<module>\u001b[1;34m\u001b[0m\n\u001b[0;32m      9\u001b[0m         \u001b[0mself\u001b[0m\u001b[1;33m.\u001b[0m\u001b[0mip\u001b[0m\u001b[1;33m=\u001b[0m\u001b[0mip\u001b[0m\u001b[1;33m\u001b[0m\u001b[1;33m\u001b[0m\u001b[0m\n\u001b[0;32m     10\u001b[0m \u001b[1;33m\u001b[0m\u001b[0m\n\u001b[1;32m---> 11\u001b[1;33m \u001b[0mlab\u001b[0m\u001b[1;33m.\u001b[0m\u001b[0mregister_resource\u001b[0m\u001b[1;33m(\u001b[0m\u001b[1;34m\"my_thing\"\u001b[0m\u001b[1;33m,\u001b[0m \u001b[0mmy_thing\u001b[0m\u001b[1;33m,\u001b[0m\u001b[0mkwargs\u001b[0m\u001b[1;33m=\u001b[0m\u001b[1;33m{\u001b[0m\u001b[1;34m'val'\u001b[0m\u001b[1;33m:\u001b[0m\u001b[1;36m1\u001b[0m\u001b[1;33m,\u001b[0m\u001b[1;34m'name'\u001b[0m\u001b[1;33m:\u001b[0m\u001b[1;34m'me'\u001b[0m\u001b[1;33m}\u001b[0m\u001b[1;33m)\u001b[0m\u001b[1;33m\u001b[0m\u001b[1;33m\u001b[0m\u001b[0m\n\u001b[0m\u001b[0;32m     12\u001b[0m \u001b[0mlab\u001b[0m\u001b[1;33m.\u001b[0m\u001b[0mregister_resource\u001b[0m\u001b[1;33m(\u001b[0m\u001b[1;34m\"my_scope\"\u001b[0m\u001b[1;33m,\u001b[0m \u001b[0mmy_scope\u001b[0m\u001b[1;33m,\u001b[0m\u001b[0margs\u001b[0m\u001b[1;33m=\u001b[0m\u001b[1;33m[\u001b[0m\u001b[1;34m\"gals scope\"\u001b[0m\u001b[1;33m]\u001b[0m\u001b[1;33m,\u001b[0m\u001b[0mexperiment_kwargs\u001b[0m\u001b[1;33m=\u001b[0m\u001b[1;33m{\u001b[0m\u001b[1;34m'ip'\u001b[0m\u001b[1;33m:\u001b[0m\u001b[1;36m0\u001b[0m\u001b[1;33m}\u001b[0m\u001b[1;33m)\u001b[0m\u001b[1;33m\u001b[0m\u001b[1;33m\u001b[0m\u001b[0m\n\u001b[0;32m     13\u001b[0m \u001b[1;33m\u001b[0m\u001b[0m\n",
      "\u001b[1;32m~\\.conda\\envs\\Entropy\\lib\\site-packages\\entropylab\\instruments\\lab_topology.py\u001b[0m in \u001b[0;36mregister_resource\u001b[1;34m(self, name, resource_class, args, experiment_args, kwargs, experiment_kwargs)\u001b[0m\n\u001b[0;32m    257\u001b[0m         \"\"\"\n\u001b[0;32m    258\u001b[0m         \u001b[1;32mif\u001b[0m \u001b[0mname\u001b[0m \u001b[1;32min\u001b[0m \u001b[0mself\u001b[0m\u001b[1;33m.\u001b[0m\u001b[0m_resources\u001b[0m \u001b[1;32mor\u001b[0m \u001b[0mself\u001b[0m\u001b[1;33m.\u001b[0m\u001b[0mresource_exist\u001b[0m\u001b[1;33m(\u001b[0m\u001b[0mname\u001b[0m\u001b[1;33m)\u001b[0m\u001b[1;33m:\u001b[0m\u001b[1;33m\u001b[0m\u001b[1;33m\u001b[0m\u001b[0m\n\u001b[1;32m--> 259\u001b[1;33m             \u001b[1;32mraise\u001b[0m \u001b[0mKeyError\u001b[0m\u001b[1;33m(\u001b[0m\u001b[1;34mf\"instrument {name} already exist\"\u001b[0m\u001b[1;33m)\u001b[0m\u001b[1;33m\u001b[0m\u001b[1;33m\u001b[0m\u001b[0m\n\u001b[0m\u001b[0;32m    260\u001b[0m         self.update_resource(\n\u001b[0;32m    261\u001b[0m             \u001b[0mname\u001b[0m\u001b[1;33m,\u001b[0m \u001b[0mresource_class\u001b[0m\u001b[1;33m,\u001b[0m \u001b[0margs\u001b[0m\u001b[1;33m,\u001b[0m \u001b[0mexperiment_args\u001b[0m\u001b[1;33m,\u001b[0m \u001b[0mkwargs\u001b[0m\u001b[1;33m,\u001b[0m \u001b[0mexperiment_kwargs\u001b[0m\u001b[1;33m\u001b[0m\u001b[1;33m\u001b[0m\u001b[0m\n",
      "\u001b[1;31mKeyError\u001b[0m: 'instrument my_thing already exist'"
     ]
    }
   ],
   "source": [
    "class my_thing:\n",
    "    def __init__(self,name, val):\n",
    "        self.name=name\n",
    "        self.val=val\n",
    "\n",
    "class my_scope:\n",
    "    def __init__(self,name, ip):\n",
    "        self.name=name\n",
    "        self.ip=ip      \n",
    "    \n",
    "lab.register_resource(\"my_thing\", my_thing,kwargs={'val':1,'name':'me'})\n",
    "lab.register_resource(\"my_scope\", my_scope,args=[\"gals scope\"],experiment_kwargs={'ip':0})\n",
    "\n",
    "\n"
   ]
  },
  {
   "cell_type": "markdown",
   "metadata": {},
   "source": [
    "Now let's define the experiment. \n",
    "\n",
    "we begin with experiment resources which are the lab resources you will use in this specific experiment. \n",
    "\n",
    "you can also define temp resources which will not be saved with the lab (the scope you stole from the lab next door but have to give back)"
   ]
  },
  {
   "cell_type": "code",
   "execution_count": 120,
   "metadata": {},
   "outputs": [
    {
     "name": "stdout",
     "output_type": "stream",
     "text": [
      "2021-05-04 17:50:20,864 - entropy - INFO - Running node <PyNode> first_node\n",
      "<__main__.my_thing object at 0x0000019E0A4DA340>\n",
      "42\n",
      "3\n",
      "2021-05-04 17:50:20,918 - entropy - INFO - Finished entropy experiment execution successfully\n"
     ]
    }
   ],
   "source": [
    "def a(context: EntropyContext):\n",
    "    x = 1\n",
    "    y = 2\n",
    "    print(context.get_resource(\"my_thing\"))\n",
    "    print(context.get_resource(\"my_scope\"))\n",
    "    print(x + y)\n",
    "    return {\"a_out\": 10}\n",
    "\n",
    "experiment_resources = ExperimentResources(db)\n",
    "experiment_resources.import_lab_resource(\"my_thing\")\n",
    "experiment_resources.add_temp_resource(\"my_scope\", 42)\n",
    "\n",
    "node1 = PyNode(\"first_node\", a,output_vars={'a_out'})\n",
    "experiment2 = Graph(experiment_resources, {node1}, \"run_a\") #No resources used here\n",
    "handle2 = experiment2.run()\n",
    "\n",
    "\n",
    "# node2 = PyNode(experiment_resources, a, \"running the exp\")\n",
    "# experiment = Graph(None, {node2}, \"run_a\") #No resources used here\n",
    "# handle = experiment.run(db)\n",
    "# exp_id = script_experiment_handle.id\n",
    "# results = script_experiment_handle.results\n",
    "# reader = ExperimentReader(exp_id, db)\n"
   ]
  },
  {
   "cell_type": "code",
   "execution_count": 113,
   "metadata": {},
   "outputs": [
    {
     "data": {
      "text/plain": [
       "[ResultRecord(experiment_id=2, id=1, label='a_out', story=None, stage=0, data=10),\n",
       " ResultRecord(experiment_id=2, id=2, label='experiment_result', story='Final output of the experiment', stage=-1, data={'a_out': 10})]"
      ]
     },
     "execution_count": 113,
     "metadata": {},
     "output_type": "execute_result"
    }
   ],
   "source": [
    "handle2.results.get_results()"
   ]
  },
  {
   "cell_type": "code",
   "execution_count": 123,
   "metadata": {},
   "outputs": [
    {
     "name": "stdout",
     "output_type": "stream",
     "text": [
      "2021-05-04 17:51:12,682 - entropy - INFO - Running node <PyNode> first_node\n",
      "<__main__.my_thing object at 0x0000019E0A4DA340>\n",
      "42\n",
      "3\n",
      "2021-05-04 17:51:12,733 - entropy - INFO - Finished entropy experiment execution successfully\n"
     ]
    },
    {
     "data": {
      "text/plain": [
       "[ResultRecord(experiment_id=9, id=15, label='a_out', story=None, stage=0, data=10),\n",
       " ResultRecord(experiment_id=9, id=16, label='experiment_result', story='Final output of the experiment', stage=-1, data={'a_out': 10})]"
      ]
     },
     "execution_count": 123,
     "metadata": {},
     "output_type": "execute_result"
    }
   ],
   "source": [
    "experiment2.run().results.get_results()\n"
   ]
  },
  {
   "cell_type": "code",
   "execution_count": 126,
   "metadata": {},
   "outputs": [
    {
     "data": {
      "text/plain": [
       "[ResultRecord(experiment_id=2, id=1, label='a_out', story=None, stage=0, data=10),\n",
       " ResultRecord(experiment_id=2, id=2, label='experiment_result', story='Final output of the experiment', stage=-1, data={'a_out': 10}),\n",
       " ResultRecord(experiment_id=3, id=3, label='a_out', story=None, stage=0, data=10),\n",
       " ResultRecord(experiment_id=3, id=4, label='experiment_result', story='Final output of the experiment', stage=-1, data={'a_out': 10}),\n",
       " ResultRecord(experiment_id=4, id=5, label='a_out', story=None, stage=0, data=10),\n",
       " ResultRecord(experiment_id=4, id=6, label='experiment_result', story='Final output of the experiment', stage=-1, data={'a_out': 10}),\n",
       " ResultRecord(experiment_id=5, id=7, label='a_out', story=None, stage=0, data=10),\n",
       " ResultRecord(experiment_id=5, id=8, label='experiment_result', story='Final output of the experiment', stage=-1, data={'a_out': 10}),\n",
       " ResultRecord(experiment_id=6, id=9, label='a_out', story=None, stage=0, data=10),\n",
       " ResultRecord(experiment_id=6, id=10, label='experiment_result', story='Final output of the experiment', stage=-1, data={'a_out': 10}),\n",
       " ResultRecord(experiment_id=7, id=11, label='a_out', story=None, stage=0, data=10),\n",
       " ResultRecord(experiment_id=7, id=12, label='experiment_result', story='Final output of the experiment', stage=-1, data={'a_out': 10}),\n",
       " ResultRecord(experiment_id=8, id=13, label='a_out', story=None, stage=0, data=10),\n",
       " ResultRecord(experiment_id=8, id=14, label='experiment_result', story='Final output of the experiment', stage=-1, data={'a_out': 10}),\n",
       " ResultRecord(experiment_id=9, id=15, label='a_out', story=None, stage=0, data=10),\n",
       " ResultRecord(experiment_id=9, id=16, label='experiment_result', story='Final output of the experiment', stage=-1, data={'a_out': 10})]"
      ]
     },
     "execution_count": 126,
     "metadata": {},
     "output_type": "execute_result"
    }
   ],
   "source": [
    "db.get_results()"
   ]
  },
  {
   "cell_type": "code",
   "execution_count": null,
   "metadata": {},
   "outputs": [],
   "source": []
  }
 ],
 "metadata": {
  "kernelspec": {
   "display_name": "Entropy",
   "language": "python",
   "name": "entropy"
  },
  "language_info": {
   "codemirror_mode": {
    "name": "ipython",
    "version": 3
   },
   "file_extension": ".py",
   "mimetype": "text/x-python",
   "name": "python",
   "nbconvert_exporter": "python",
   "pygments_lexer": "ipython3",
   "version": "3.8.8"
  }
 },
 "nbformat": 4,
 "nbformat_minor": 4
}
