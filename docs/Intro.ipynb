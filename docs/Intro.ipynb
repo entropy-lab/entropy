{
 "cells": [
  {
   "cell_type": "code",
   "execution_count": 18,
   "metadata": {
    "jupyter": {
     "source_hidden": true
    }
   },
   "outputs": [],
   "source": [
    "import qm\n",
    "from entropylab import *\n",
    "import numpy as np\n",
    "import matplotlib.pyplot as plt"
   ]
  },
  {
   "cell_type": "markdown",
   "metadata": {},
   "source": [
    "<div align=\"center\"> <font size=\"+5\"><u>Entropy: A lab workflow manager<\\u></font></div>\n"
   ]
  },
  {
   "cell_type": "markdown",
   "metadata": {},
   "source": [
    "Entropy is a tool for managing your quantum workflow. It allows you to build complex experiments, coordinating lab instruments and arbitrary computational steps. \n",
    "This notebook introduces the basic concepts needed to start working with Entropy.\n",
    "\n",
    "# The Experiment and Graph\n",
    "\n",
    "An experiment is a set of steps. \n",
    "These steps can depend on each other.\n",
    "Each step is a node.\n",
    "\n",
    "Each step needs must be traceable: we want to save data, we want to easily access data. \n",
    "A graph is a good representation.\n",
    "\n",
    "# The Entropy Environment\n",
    "\n",
    "An experiment has dependencies. \n",
    "The definition of a dependency is very broad: from an instrumnet, to software components, to calculations. \n",
    "These need to be shared between steps within the experiments and between different executions of experiments. \n",
    "\n",
    "To solve this we have the concept of a run environmet. \n",
    "\n",
    "It contains resources and is automatically visible to Nodes in an experiment graph.\n",
    "\n",
    "# Results in Entropy\n",
    "\n",
    "The results DB is an automatic and easy way to save and access results.\n",
    "\n",
    "Entropy was designed to support different implementations of a DB. You can use a SQL DB, but don't have to. \n",
    "We will deploy several back ends, including for example to file based solutions such as HDF5\n",
    "\n",
    "To support traceability, Entropy does not save only results, but metadata, debugging data etc. \n",
    "\n",
    "# Your first node\n",
    "\n",
    "The PyNode is the basic element in an Entropy grpah. It runs arbitrary python code.\n",
    "The function called by the node must return a dictionary with result names as keys. \n",
    "\n"
   ]
  },
  {
   "cell_type": "code",
   "execution_count": 46,
   "metadata": {},
   "outputs": [
    {
     "name": "stdout",
     "output_type": "stream",
     "text": [
      "2021-05-04 17:03:09,994 - entropy - WARNING - Results of current execution run_a will be permanently lost on session close\n",
      "2021-05-04 17:03:09,995 - entropy - INFO - Running node <PyNode> first_node\n",
      "2021-05-04 17:03:09,996 - entropy - INFO - Finished entropy experiment execution successfully\n"
     ]
    }
   ],
   "source": [
    "def my_func():\n",
    "    return {'res':1}\n",
    "\n",
    "node1 = PyNode(\"first_node\", my_func,output_vars={'res'})\n",
    "experiment = Graph(None, {node1}, \"run_a\") #No resources used here\n",
    "handle = experiment.run()"
   ]
  },
  {
   "cell_type": "markdown",
   "metadata": {},
   "source": [
    "\n",
    "This node is now attached to a graph (containing just one node) and we run the graph, saving the results to `handle`"
   ]
  },
  {
   "cell_type": "markdown",
   "metadata": {},
   "source": [
    "After running the experiment, you can access the results as following:"
   ]
  },
  {
   "cell_type": "code",
   "execution_count": 47,
   "metadata": {},
   "outputs": [
    {
     "data": {
      "text/plain": [
       "1"
      ]
     },
     "execution_count": 47,
     "metadata": {},
     "output_type": "execute_result"
    }
   ],
   "source": [
    "handle.results.get_results_from_node(\"first_node\")[0].results[0].data"
   ]
  },
  {
   "cell_type": "markdown",
   "metadata": {},
   "source": [
    "## Less simple"
   ]
  },
  {
   "cell_type": "markdown",
   "metadata": {},
   "source": [
    "This example is too simple to show any real benefit. let's add resources.\n",
    "We will now generate a `lab` which has a a database to which we save. \n",
    "This represents our entire lab, so in principle we only ever do this once and keep updating it as we go along. \n",
    "\n"
   ]
  },
  {
   "cell_type": "code",
   "execution_count": 54,
   "metadata": {},
   "outputs": [],
   "source": [
    "\n",
    "db = SqlAlchemyDB('docs_cache/tutorial.db')\n",
    "lab = LabResources(db)\n"
   ]
  },
  {
   "cell_type": "markdown",
   "metadata": {},
   "source": [
    "We now add two example resources. one represents a lab device - an oscilloscope and the other is a measurement from some thing"
   ]
  },
  {
   "cell_type": "code",
   "execution_count": null,
   "metadata": {},
   "outputs": [],
   "source": [
    "asdkasld;"
   ]
  },
  {
   "cell_type": "code",
   "execution_count": 55,
   "metadata": {},
   "outputs": [
    {
     "ename": "KeyError",
     "evalue": "'instrument my_thing already exist'",
     "output_type": "error",
     "traceback": [
      "\u001b[1;31m---------------------------------------------------------------------------\u001b[0m",
      "\u001b[1;31mKeyError\u001b[0m                                  Traceback (most recent call last)",
      "\u001b[1;32m<ipython-input-55-534e69eaf106>\u001b[0m in \u001b[0;36m<module>\u001b[1;34m\u001b[0m\n\u001b[0;32m      9\u001b[0m         \u001b[0mself\u001b[0m\u001b[1;33m.\u001b[0m\u001b[0mip\u001b[0m\u001b[1;33m=\u001b[0m\u001b[0mip\u001b[0m\u001b[1;33m\u001b[0m\u001b[1;33m\u001b[0m\u001b[0m\n\u001b[0;32m     10\u001b[0m \u001b[1;33m\u001b[0m\u001b[0m\n\u001b[1;32m---> 11\u001b[1;33m \u001b[0mlab\u001b[0m\u001b[1;33m.\u001b[0m\u001b[0mregister_resource\u001b[0m\u001b[1;33m(\u001b[0m\u001b[1;34m\"my_thing\"\u001b[0m\u001b[1;33m,\u001b[0m \u001b[0mmy_thing\u001b[0m\u001b[1;33m,\u001b[0m\u001b[0mkwargs\u001b[0m\u001b[1;33m=\u001b[0m\u001b[1;33m{\u001b[0m\u001b[1;34m'val'\u001b[0m\u001b[1;33m:\u001b[0m\u001b[1;36m1\u001b[0m\u001b[1;33m,\u001b[0m\u001b[1;34m'name'\u001b[0m\u001b[1;33m:\u001b[0m\u001b[1;34m'me'\u001b[0m\u001b[1;33m}\u001b[0m\u001b[1;33m)\u001b[0m\u001b[1;33m\u001b[0m\u001b[1;33m\u001b[0m\u001b[0m\n\u001b[0m\u001b[0;32m     12\u001b[0m \u001b[0mlab\u001b[0m\u001b[1;33m.\u001b[0m\u001b[0mregister_resource\u001b[0m\u001b[1;33m(\u001b[0m\u001b[1;34m\"my_scope\"\u001b[0m\u001b[1;33m,\u001b[0m \u001b[0mmy_scope\u001b[0m\u001b[1;33m,\u001b[0m\u001b[0margs\u001b[0m\u001b[1;33m=\u001b[0m\u001b[1;33m[\u001b[0m\u001b[1;34m\"gals scope\"\u001b[0m\u001b[1;33m]\u001b[0m\u001b[1;33m,\u001b[0m\u001b[0mexperiment_kwargs\u001b[0m\u001b[1;33m=\u001b[0m\u001b[1;33m{\u001b[0m\u001b[1;34m'ip'\u001b[0m\u001b[1;33m:\u001b[0m\u001b[1;36m0\u001b[0m\u001b[1;33m}\u001b[0m\u001b[1;33m)\u001b[0m\u001b[1;33m\u001b[0m\u001b[1;33m\u001b[0m\u001b[0m\n\u001b[0;32m     13\u001b[0m \u001b[1;33m\u001b[0m\u001b[0m\n",
      "\u001b[1;32m~\\.conda\\envs\\Entropy\\lib\\site-packages\\entropylab\\instruments\\lab_topology.py\u001b[0m in \u001b[0;36mregister_resource\u001b[1;34m(self, name, resource_class, args, experiment_args, kwargs, experiment_kwargs)\u001b[0m\n\u001b[0;32m    257\u001b[0m         \"\"\"\n\u001b[0;32m    258\u001b[0m         \u001b[1;32mif\u001b[0m \u001b[0mname\u001b[0m \u001b[1;32min\u001b[0m \u001b[0mself\u001b[0m\u001b[1;33m.\u001b[0m\u001b[0m_resources\u001b[0m \u001b[1;32mor\u001b[0m \u001b[0mself\u001b[0m\u001b[1;33m.\u001b[0m\u001b[0mresource_exist\u001b[0m\u001b[1;33m(\u001b[0m\u001b[0mname\u001b[0m\u001b[1;33m)\u001b[0m\u001b[1;33m:\u001b[0m\u001b[1;33m\u001b[0m\u001b[1;33m\u001b[0m\u001b[0m\n\u001b[1;32m--> 259\u001b[1;33m             \u001b[1;32mraise\u001b[0m \u001b[0mKeyError\u001b[0m\u001b[1;33m(\u001b[0m\u001b[1;34mf\"instrument {name} already exist\"\u001b[0m\u001b[1;33m)\u001b[0m\u001b[1;33m\u001b[0m\u001b[1;33m\u001b[0m\u001b[0m\n\u001b[0m\u001b[0;32m    260\u001b[0m         self.update_resource(\n\u001b[0;32m    261\u001b[0m             \u001b[0mname\u001b[0m\u001b[1;33m,\u001b[0m \u001b[0mresource_class\u001b[0m\u001b[1;33m,\u001b[0m \u001b[0margs\u001b[0m\u001b[1;33m,\u001b[0m \u001b[0mexperiment_args\u001b[0m\u001b[1;33m,\u001b[0m \u001b[0mkwargs\u001b[0m\u001b[1;33m,\u001b[0m \u001b[0mexperiment_kwargs\u001b[0m\u001b[1;33m\u001b[0m\u001b[1;33m\u001b[0m\u001b[0m\n",
      "\u001b[1;31mKeyError\u001b[0m: 'instrument my_thing already exist'"
     ]
    }
   ],
   "source": [
    "class my_thing:\n",
    "    def __init__(self,name, val):\n",
    "        self.name=name\n",
    "        self.val=val\n",
    "\n",
    "class my_scope:\n",
    "    def __init__(self,name, ip):\n",
    "        self.name=name\n",
    "        self.ip=ip      \n",
    "    \n",
    "lab.register_resource(\"my_thing\", my_thing,kwargs={'val':1,'name':'me'})\n",
    "lab.register_resource(\"my_scope\", my_scope,args=[\"gals scope\"],experiment_kwargs={'ip':0})\n",
    "\n",
    "\n"
   ]
  },
  {
   "cell_type": "markdown",
   "metadata": {},
   "source": []
  },
  {
   "cell_type": "code",
   "execution_count": null,
   "metadata": {},
   "outputs": [],
   "source": [
    "def a(context: EntropyContext):\n",
    "    x = 1\n",
    "    y = 2\n",
    "    print(context.get_resource(\"guy\"))\n",
    "    print(context.get_resource(\"tal\"))\n",
    "    print(x + y)\n",
    "    return {\"a_out\": 10}\n",
    "\n",
    "\n",
    "experiment_resources = ExperimentResources(db)\n",
    "experiment_resources.import_lab_resource(\"guy\")\n",
    "experiment_resources.add_temp_resource(\"tal\", 42)\n",
    "# experiment_resources.add_temp_resource('gal',experiment_kwargs={'ip':123})\n",
    "model = Script(experiment_resources, a, \"running the exp\")\n",
    "script_experiment_handle = model.run(db)\n",
    "exp_id = script_experiment_handle.id\n",
    "results = script_experiment_handle.results\n",
    "reader = ExperimentReader(exp_id, db)\n"
   ]
  },
  {
   "cell_type": "code",
   "execution_count": 149,
   "metadata": {},
   "outputs": [
    {
     "data": {
      "text/plain": [
       "[ResultRecord(experiment_id=1, id=1, label='experiment_result', story='Final output of the experiment', stage=-1, data={'a_out': 10})]"
      ]
     },
     "execution_count": 149,
     "metadata": {},
     "output_type": "execute_result"
    }
   ],
   "source": [
    "reader.get_results()"
   ]
  },
  {
   "cell_type": "code",
   "execution_count": 113,
   "metadata": {},
   "outputs": [],
   "source": [
    "class my_int:\n",
    "    def __init__(self,**kwargs):\n",
    "        self.name=kwargs['name']\n",
    "        self.val=kwargs['val']"
   ]
  },
  {
   "cell_type": "code",
   "execution_count": 117,
   "metadata": {},
   "outputs": [
    {
     "data": {
      "text/plain": [
       "<__main__.my_int at 0x1dcfbf923a0>"
      ]
     },
     "execution_count": 117,
     "metadata": {},
     "output_type": "execute_result"
    }
   ],
   "source": [
    "my_int(**{'name':'me','val':1})"
   ]
  },
  {
   "cell_type": "code",
   "execution_count": 16,
   "metadata": {},
   "outputs": [
    {
     "data": {
      "text/plain": [
       "<entropylab.api.data_reader.ExperimentReader at 0x19e095684c0>"
      ]
     },
     "execution_count": 16,
     "metadata": {},
     "output_type": "execute_result"
    }
   ],
   "source": [
    "results"
   ]
  },
  {
   "cell_type": "code",
   "execution_count": null,
   "metadata": {},
   "outputs": [],
   "source": []
  }
 ],
 "metadata": {
  "kernelspec": {
   "display_name": "Entropy",
   "language": "python",
   "name": "entropy"
  },
  "language_info": {
   "codemirror_mode": {
    "name": "ipython",
    "version": 3
   },
   "file_extension": ".py",
   "mimetype": "text/x-python",
   "name": "python",
   "nbconvert_exporter": "python",
   "pygments_lexer": "ipython3",
   "version": "3.8.8"
  }
 },
 "nbformat": 4,
 "nbformat_minor": 4
}
